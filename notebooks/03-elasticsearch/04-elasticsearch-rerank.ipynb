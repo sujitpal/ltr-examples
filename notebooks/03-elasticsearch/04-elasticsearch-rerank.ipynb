{
 "cells": [
  {
   "cell_type": "markdown",
   "metadata": {},
   "source": [
    "# Reranking in Elasticsearch LTR Model\n",
    "\n",
    "Refer to [ES LTR Docs](https://elasticsearch-learning-to-rank.readthedocs.io/en/latest/searching-with-your-model.html) for more details."
   ]
  },
  {
   "cell_type": "code",
   "execution_count": 1,
   "metadata": {},
   "outputs": [],
   "source": [
    "import json\n",
    "import os\n",
    "import random\n",
    "import requests"
   ]
  },
  {
   "cell_type": "code",
   "execution_count": 2,
   "metadata": {},
   "outputs": [],
   "source": [
    "ES_URL = \"http://localhost:9200/\"\n",
    "QUERY_LIST = [\n",
    "    \"murder\", \"musical\", \"biography\", \"police\", \"world war ii\",\n",
    "    \"comedy\", \"superhero\", \"nazis\", \"romance\", \"martial arts\",\n",
    "    \"extramarital\", \"spy\", \"vampire\", \"magic\", \"wedding\",\n",
    "    \"sport\", \"prison\", \"teacher\", \"alien\", \"dystopia\"\n",
    "]\n",
    "TOP_N = 10"
   ]
  },
  {
   "cell_type": "code",
   "execution_count": 3,
   "metadata": {},
   "outputs": [
    {
     "name": "stdout",
     "output_type": "stream",
     "text": [
      "★★★☆☆\n",
      "★★★★☆\n"
     ]
    }
   ],
   "source": [
    "def rating2label(rating):\n",
    "    \"\"\" convert 0-10 continuous rating to 1-5 categorical labels \"\"\"\n",
    "    if rating == 10.0:\n",
    "        rating -= 0.01\n",
    "    return int(rating // 2) + 1\n",
    "\n",
    "\n",
    "def get_rating_string(rating):\n",
    "    rating_string = []\n",
    "    for i in range(rating):\n",
    "        rating_string.append(u\"\\u2605\")\n",
    "    for i in range(5 - rating):\n",
    "        rating_string.append(u\"\\u2606\")\n",
    "    return \"\".join(rating_string)\n",
    "\n",
    "\n",
    "print(get_rating_string(3))\n",
    "print(get_rating_string(rating2label(6.4)))"
   ]
  },
  {
   "cell_type": "code",
   "execution_count": 4,
   "metadata": {},
   "outputs": [],
   "source": [
    "query = QUERY_LIST[random.randint(0, len(QUERY_LIST))]"
   ]
  },
  {
   "cell_type": "markdown",
   "metadata": {},
   "source": [
    "## Top 20 results without LTR"
   ]
  },
  {
   "cell_type": "code",
   "execution_count": 5,
   "metadata": {},
   "outputs": [],
   "source": [
    "def render_results(docs, query, top_n):\n",
    "    print(\"top {:d} results for {:s}\".format(TOP_N * 2, query))\n",
    "    print(\"---\")\n",
    "    for doc in docs:\n",
    "        doc_id, title, rating, score = doc\n",
    "        stars = get_rating_string(rating2label(rating))\n",
    "        print(\"{:s} {:06d} {:.3f} {:s}\".format(stars, int(doc_id), score, title))"
   ]
  },
  {
   "cell_type": "code",
   "execution_count": 6,
   "metadata": {},
   "outputs": [
    {
     "name": "stdout",
     "output_type": "stream",
     "text": [
      "top 20 results for alien\n",
      "---\n",
      "★★★★☆ 008077 9.157 Alien³\n",
      "★★★★☆ 000348 9.157 Alien\n",
      "★★★☆☆ 008078 7.716 Alien: Resurrection\n",
      "★★★☆☆ 029938 7.716 Alien Escape\n",
      "★★★☆☆ 010128 7.716 Alien Nation\n",
      "★★★☆☆ 022076 7.716 Alien Hunter\n",
      "★★★☆☆ 009773 7.716 Alien Autopsy\n",
      "★★★☆☆ 013954 7.716 Alien Raiders\n",
      "★★★☆☆ 016634 7.716 Alien Trespass\n",
      "★★★☆☆ 052477 7.716 Alien Cargo\n",
      "★★★☆☆ 052318 7.716 Alien Predators\n",
      "★★★☆☆ 258193 7.716 Alien Abduction\n",
      "★★★☆☆ 312526 7.716 Alien Outpost\n",
      "★☆☆☆☆ 113040 7.716 Alien Origin\n",
      "★★☆☆☆ 014907 7.716 Alien Apocalypse\n",
      "★★☆☆☆ 104185 7.716 Alien Tornado\n",
      "★☆☆☆☆ 113119 7.716 Fugitive Alien\n",
      "★★★☆☆ 126889 7.716 Alien: Covenant\n",
      "★★★★☆ 067317 7.716 Dr. Alien\n",
      "★★☆☆☆ 031397 6.666 Alien from L.A.\n"
     ]
    }
   ],
   "source": [
    "headers = {\n",
    "    \"Content-Type\": \"application/json\"\n",
    "}\n",
    "data = {\n",
    "    \"query\": {\n",
    "        \"dis_max\": {\n",
    "            \"queries\": [\n",
    "                { \"match\": { \"title\": query }},\n",
    "                { \"match\": { \"body\":  query }}\n",
    "            ]\n",
    "        }\n",
    "    },\n",
    "    \"from\": 0,\n",
    "    \"size\": TOP_N * 2\n",
    "}\n",
    "resp = requests.post(ES_URL + \"tmdbindex/_search\", headers=headers, data=json.dumps(data))\n",
    "resp_json = json.loads(resp.text)\n",
    "result_docs = []\n",
    "for doc in resp_json[\"hits\"][\"hits\"]:\n",
    "    doc_src = doc[\"_source\"]\n",
    "    doc_id = doc_src[\"doc_id\"]\n",
    "    rating = doc_src[\"rating\"]\n",
    "    title = doc_src[\"title\"]\n",
    "    score = doc[\"_score\"]\n",
    "    result_docs.append((doc_id, title, rating, score))\n",
    "render_results(result_docs, query, TOP_N)"
   ]
  },
  {
   "cell_type": "markdown",
   "metadata": {},
   "source": [
    "## Top 20 results with LTR"
   ]
  },
  {
   "cell_type": "code",
   "execution_count": 7,
   "metadata": {},
   "outputs": [
    {
     "name": "stdout",
     "output_type": "stream",
     "text": [
      "top 20 results for alien\n",
      "---\n",
      "★★★★☆ 000348 6.357 Alien\n",
      "★★☆☆☆ 014907 6.149 Alien Apocalypse\n",
      "★★★★☆ 008077 5.758 Alien³\n",
      "★★★★☆ 067317 4.856 Dr. Alien\n",
      "★★★☆☆ 312526 4.838 Alien Outpost\n",
      "★★☆☆☆ 104185 4.838 Alien Tornado\n",
      "★☆☆☆☆ 113119 4.754 Fugitive Alien\n",
      "★★★☆☆ 052318 4.749 Alien Predators\n",
      "★★★☆☆ 009773 4.654 Alien Autopsy\n",
      "★★★☆☆ 016634 4.557 Alien Trespass\n",
      "★★☆☆☆ 105538 4.542 Codependent Lesbian Space Alien Seeks Same\n",
      "★☆☆☆☆ 113040 4.364 Alien Origin\n",
      "★★★☆☆ 008078 4.317 Alien: Resurrection\n",
      "★★★☆☆ 010128 4.268 Alien Nation\n",
      "★★★☆☆ 258193 4.249 Alien Abduction\n",
      "★★★☆☆ 126889 4.249 Alien: Covenant\n",
      "★★★☆☆ 022076 4.228 Alien Hunter\n",
      "★★★☆☆ 013954 4.195 Alien Raiders\n",
      "★★★☆☆ 052477 4.034 Alien Cargo\n",
      "★★★☆☆ 029938 4.018 Alien Escape\n"
     ]
    }
   ],
   "source": [
    "data = {\n",
    "    \"query\": {\n",
    "        \"dis_max\": {\n",
    "            \"queries\": [\n",
    "                { \"match\": { \"title\": query }},\n",
    "                { \"match\": { \"body\":  query }}\n",
    "            ]\n",
    "        }\n",
    "    },\n",
    "    \"rescore\": {\n",
    "        \"window_size\": 100,\n",
    "        \"query\": {\n",
    "            \"rescore_query\": {\n",
    "                \"sltr\": {\n",
    "                    \"params\": {\n",
    "                        \"query\": query\n",
    "                    },\n",
    "                    \"model\": \"es_lambdamart_model\",\n",
    "                }\n",
    "            }\n",
    "        }\n",
    "    },\n",
    "    \"from\": 0,\n",
    "    \"size\": TOP_N * 2\n",
    "}\n",
    "resp = requests.post(ES_URL + \"tmdbindex/_search\", headers=headers, data=json.dumps(data))\n",
    "resp_json = json.loads(resp.text)\n",
    "result_docs = []\n",
    "for doc in resp_json[\"hits\"][\"hits\"]:\n",
    "    doc_src = doc[\"_source\"]\n",
    "    doc_id = doc_src[\"doc_id\"]\n",
    "    rating = doc_src[\"rating\"]\n",
    "    title = doc_src[\"title\"]\n",
    "    score = doc[\"_score\"]\n",
    "    result_docs.append((doc_id, title, rating, score))\n",
    "render_results(result_docs, query, TOP_N)"
   ]
  },
  {
   "cell_type": "code",
   "execution_count": null,
   "metadata": {},
   "outputs": [],
   "source": []
  }
 ],
 "metadata": {
  "kernelspec": {
   "display_name": "Python 3",
   "language": "python",
   "name": "python3"
  },
  "language_info": {
   "codemirror_mode": {
    "name": "ipython",
    "version": 3
   },
   "file_extension": ".py",
   "mimetype": "text/x-python",
   "name": "python",
   "nbconvert_exporter": "python",
   "pygments_lexer": "ipython3",
   "version": "3.6.5"
  }
 },
 "nbformat": 4,
 "nbformat_minor": 2
}
