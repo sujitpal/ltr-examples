{
 "cells": [
  {
   "cell_type": "markdown",
   "metadata": {},
   "source": [
    "# Feature Generation (no Index support)\n",
    "\n",
    "Both Solr and Elasticsearch (and possibly other indexes that support LTR) provide support in generating query document features, such as similarities. Here we will assume that we have a search index (we will use Solr) which hosts the data already, so no need to load the data.\n",
    "\n",
    "We will use third party similarity functions to generate our similarity features. Output will be a file in LETOR format similar to the other two cases.\n",
    "\n",
    "NOTE: one nice thing is that we are now free to come up with more novel similarity features, such as cosine similarity of query and document vectors generated from word embeddings, or include features that may be difficult to store in the index because of its volatility (for example, user preferences).\n",
    "\n",
    "Solr needs to be running and listening on port 8983. If it is not up, start with:\n",
    "\n",
    "    bin/solr start -Dsolr.ltr.enabled=true\n"
   ]
  },
  {
   "cell_type": "code",
   "execution_count": 1,
   "metadata": {},
   "outputs": [],
   "source": [
    "from sklearn.feature_extraction.text import TfidfVectorizer\n",
    "from sklearn.metrics.pairwise import linear_kernel\n",
    "import datetime\n",
    "import gensim\n",
    "import json\n",
    "import numpy as np\n",
    "import os\n",
    "import random\n",
    "import requests\n",
    "import spacy\n",
    "import urllib"
   ]
  },
  {
   "cell_type": "code",
   "execution_count": 2,
   "metadata": {},
   "outputs": [],
   "source": [
    "DATA_DIR = \"../../data\"\n",
    "\n",
    "SOLR_URL = \"http://localhost:8983/solr/tmdbindex/\"\n",
    "LETOR_FILE_TEMPLATE = os.path.join(DATA_DIR, \"diy_features_{:s}.txt\")\n",
    "\n",
    "FEATURE_LIST = [\n",
    "    \"origScore\", \"titleSimTFIDF\", \"titleSimBM25\", \"descSimTFIDF\", \"descSimBM25\",\n",
    "    \"docRecency\", \"isGoHands\", \"isAniplex\", \"isThriller\", \"isForeign\",\n",
    "    \"isDrama\", \"isWar\", \"isAction\", \"isComedy\", \"isMusic\", \n",
    "    \"isRomance\", \"isAdventure\", \"isFamily\", \"isFantasy\", \"isCrime\",\n",
    "    \"isHorror\", \"isHistory\", \"isMystery\", \"isAnimation\", \"isDocumentary\",\n",
    "    \"isWestern\"\n",
    "]\n",
    "QUERY_LIST = [\n",
    "    \"murder\", \"musical\", \"biography\", \"police\", \"world war ii\",\n",
    "    \"comedy\", \"superhero\", \"nazis\", \"romance\", \"martial arts\",\n",
    "    \"extramarital\", \"spy\", \"vampire\", \"magic\", \"wedding\",\n",
    "    \"sport\", \"prison\", \"teacher\", \"alien\", \"dystopia\"\n",
    "]"
   ]
  },
  {
   "cell_type": "code",
   "execution_count": 3,
   "metadata": {},
   "outputs": [],
   "source": [
    "nlp = spacy.load(\"en\")"
   ]
  },
  {
   "cell_type": "code",
   "execution_count": 4,
   "metadata": {},
   "outputs": [],
   "source": [
    "def get_search_results(query, num_docs):\n",
    "    payload = {\n",
    "        \"q\": query,\n",
    "        \"defType\": \"edismax\",\n",
    "        \"qf\": \"title_t description_t\",\n",
    "        \"pf\": \"title_t description_t\",\n",
    "        \"mm\": 2,\n",
    "        \"fl\": \"*,score\",            \n",
    "        \"rows\": num_docs\n",
    "    }\n",
    "    params = urllib.parse.urlencode(payload, quote_via=urllib.parse.quote_plus)\n",
    "    search_url = SOLR_URL + \"select?\" + params\n",
    "    resp = requests.get(search_url)\n",
    "    resp_json = json.loads(resp.text)\n",
    "    docs = resp_json[\"response\"][\"docs\"]\n",
    "    return docs\n",
    "\n",
    "\n",
    "docs = get_search_results(\"martial arts\", 100)\n",
    "assert(len(docs) <= 100)"
   ]
  },
  {
   "cell_type": "markdown",
   "metadata": {},
   "source": [
    "## TF-IDF Similarity"
   ]
  },
  {
   "cell_type": "code",
   "execution_count": 5,
   "metadata": {},
   "outputs": [],
   "source": [
    "def get_tfidf_similarities(query, docs, field_name):\n",
    "    fields = []\n",
    "    for doc in docs:\n",
    "        try:\n",
    "            fields.append(doc[field_name])\n",
    "        except KeyError:\n",
    "            fields.append(\" \")\n",
    "    tfidf = TfidfVectorizer()\n",
    "    field_vecs = tfidf.fit_transform(fields)\n",
    "    query_vec = np.sum(tfidf.transform(query.split(\" \")), axis=0)\n",
    "    sims = linear_kernel(query_vec, field_vecs).flatten()\n",
    "    tfidf = None\n",
    "    return sims\n",
    "\n",
    "\n",
    "desc_sims_tfidf = get_tfidf_similarities(\"martial arts\", docs, \"description_t\")\n",
    "assert(len(desc_sims_tfidf) == len(docs))"
   ]
  },
  {
   "cell_type": "markdown",
   "metadata": {},
   "source": [
    "## BM25 Similarity"
   ]
  },
  {
   "cell_type": "code",
   "execution_count": 6,
   "metadata": {},
   "outputs": [],
   "source": [
    "def get_bm25_similarities(query, docs, field_name):\n",
    "    \"\"\" Code adapted from:\n",
    "        https://stackoverflow.com/questions/40966014/how-to-use-gensim-bm25-ranking-in-python\n",
    "    \"\"\"\n",
    "    fields = []\n",
    "    for doc in docs:\n",
    "        try:\n",
    "            fields.append(nlp(doc[field_name].lower()))\n",
    "        except KeyError:\n",
    "            fields.append(nlp(\" \"))\n",
    "    field_tokens = []\n",
    "    for field in fields:\n",
    "        field_tokens.append([token.text for token in field])\n",
    "    dictionary = gensim.corpora.Dictionary(field_tokens)\n",
    "    corpus = [dictionary.doc2bow(token) for token in field_tokens]\n",
    "    bm25 = gensim.summarization.bm25.BM25(corpus)\n",
    "    avg_idf = sum(float(val) for val in bm25.idf.values()) / len(bm25.idf)\n",
    "    query_tokens = [token.text for token in nlp(query.lower())]\n",
    "    query_vec = dictionary.doc2bow(query_tokens)\n",
    "    sims = bm25.get_scores(query_vec, avg_idf)\n",
    "    dictionary, corpus, bm25 = None, None, None\n",
    "    return sims\n",
    "\n",
    "\n",
    "desc_sims_bm25 = get_bm25_similarities(\"martial arts\", docs, \"description_t\")\n",
    "assert(len(desc_sims_bm25) == len(docs))"
   ]
  },
  {
   "cell_type": "markdown",
   "metadata": {},
   "source": [
    "## Document Recency\n",
    "\n",
    "We will get this as the number of seconds since epoch divided by `365*24*60*60` (so decimal value in years)."
   ]
  },
  {
   "cell_type": "code",
   "execution_count": 7,
   "metadata": {},
   "outputs": [],
   "source": [
    "def get_doc_recencies(docs, field_name):\n",
    "    epoch = datetime.datetime.utcfromtimestamp(0)\n",
    "    recencies = []\n",
    "    for doc in docs:\n",
    "        try:\n",
    "            field = doc[field_name]\n",
    "            field_dttm = datetime.datetime.strptime(doc[field_name], \"%Y-%m-%dT%H:%M:%SZ\")\n",
    "            total_years = (field_dttm - epoch).total_seconds() / (365 * 24 * 60 * 60)\n",
    "        except KeyError:\n",
    "            total_years = 0\n",
    "        recencies.append(total_years)\n",
    "    return recencies\n",
    "\n",
    "doc_recencies = get_doc_recencies(docs, \"released_dt\")\n",
    "assert(len(doc_recencies) == len(docs))"
   ]
  },
  {
   "cell_type": "markdown",
   "metadata": {},
   "source": [
    "## Document Categories"
   ]
  },
  {
   "cell_type": "code",
   "execution_count": 8,
   "metadata": {},
   "outputs": [],
   "source": [
    "def get_doc_categories(docs):\n",
    "    categories = []\n",
    "    for doc in docs:\n",
    "        category_dict = {}\n",
    "        try:\n",
    "            genres = set(doc[\"genres_ss\"])\n",
    "            for feature in FEATURE_LIST[6:]:\n",
    "                feat_val = feature[2:]\n",
    "                if feat_val in genres:\n",
    "                    category_dict[feature] = 1\n",
    "                else:\n",
    "                    category_dict[feature] = 0\n",
    "        except KeyError:\n",
    "            category_dict = {feature: 0 for feature in FEATURE_LIST[6:]}\n",
    "        categories.append(category_dict)\n",
    "    return categories\n",
    "\n",
    "categories = get_doc_categories(docs)\n",
    "assert(len(categories) == len(docs))"
   ]
  },
  {
   "cell_type": "markdown",
   "metadata": {},
   "source": [
    "## Generate Features"
   ]
  },
  {
   "cell_type": "code",
   "execution_count": 9,
   "metadata": {},
   "outputs": [],
   "source": [
    "def rating2label(rating):\n",
    "    \"\"\" convert 0-10 continuous rating to 1-5 categorical labels \"\"\"\n",
    "    return int(rating // 2) + 1\n",
    "\n",
    "assert(rating2label(6.4) == 4)\n",
    "assert(rating2label(9.8) == 5)"
   ]
  },
  {
   "cell_type": "code",
   "execution_count": 10,
   "metadata": {},
   "outputs": [],
   "source": [
    "feature_name2id = {name: idx + 1 for idx, name in enumerate(FEATURE_LIST)}\n",
    "\n",
    "assert(feature_name2id[\"isRomance\"] == 16)"
   ]
  },
  {
   "cell_type": "code",
   "execution_count": 11,
   "metadata": {},
   "outputs": [],
   "source": [
    "def format_letor(doc_id, rating, qid, query, orig_score, title_sim_tfidf, desc_sim_tfidf,\n",
    "                 title_sim_bm25, desc_sim_bm25, doc_recency, doc_categories):\n",
    "    label = rating2label(rating)\n",
    "    features = {\n",
    "        \"origScore\": \"{:.5f}\".format(orig_score),\n",
    "        \"titleSimTFIDF\": \"{:.5f}\".format(title_sim_tfidf),\n",
    "        \"titleSimBM25\": \"{:.5f}\".format(title_sim_bm25),\n",
    "        \"descSimTFIDF\": \"{:.5f}\".format(desc_sim_tfidf),\n",
    "        \"descSimBM25\": \"{:.5f}\".format(desc_sim_bm25),\n",
    "        \"docRecency\": \"{:.5f}\".format(doc_recency),\n",
    "        \"isGoHands\": \"{:.3f}\".format(doc_categories[\"isGoHands\"]),\n",
    "        \"isAniplex\": \"{:.3f}\".format(doc_categories[\"isAniplex\"]),\n",
    "        \"isThriller\": \"{:.3f}\".format(doc_categories[\"isThriller\"]),\n",
    "        \"isForeign\": \"{:.3f}\".format(doc_categories[\"isForeign\"]),\n",
    "        \"isDrama\": \"{:.3f}\".format(doc_categories[\"isDrama\"]),\n",
    "        \"isWar\": \"{:.3f}\".format(doc_categories[\"isWar\"]),  \n",
    "        \"isAction\": \"{:.3f}\".format(doc_categories[\"isAction\"]),\n",
    "        \"isComedy\": \"{:.3f}\".format(doc_categories[\"isComedy\"]),\n",
    "        \"isMusic\": \"{:.3f}\".format(doc_categories[\"isMusic\"]),\n",
    "        \"isRomance\": \"{:.3f}\".format(doc_categories[\"isRomance\"]),\n",
    "        \"isAdventure\": \"{:.3f}\".format(doc_categories[\"isAdventure\"]),\n",
    "        \"isFamily\": \"{:.3f}\".format(doc_categories[\"isFamily\"]),\n",
    "        \"isFantasy\": \"{:.3f}\".format(doc_categories[\"isFantasy\"]),\n",
    "        \"isCrime\": \"{:.3f}\".format(doc_categories[\"isCrime\"]),\n",
    "        \"isHorror\": \"{:.3f}\".format(doc_categories[\"isHorror\"]),\n",
    "        \"isHistory\": \"{:.3f}\".format(doc_categories[\"isHistory\"]),\n",
    "        \"isMystery\": \"{:.3f}\".format(doc_categories[\"isMystery\"]),\n",
    "        \"isAnimation\": \"{:.3f}\".format(doc_categories[\"isAnimation\"]),\n",
    "        \"isDocumentary\": \"{:.3f}\".format(doc_categories[\"isDocumentary\"]),\n",
    "        \"isWestern\": \"{:.3f}\".format(doc_categories[\"isWestern\"])\n",
    "    }\n",
    "    feat_pairs = []\n",
    "    for feat_name in FEATURE_LIST:\n",
    "        feat_id = str(feature_name2id[feat_name])\n",
    "        feat_val = features[feat_name]\n",
    "        feat_pairs.append(\":\".join([feat_id, feat_val]))\n",
    "    return \"{:d} qid:{:d} {:s} # docid:{:d} query:{:s}\".format(\n",
    "        label, qid, \" \".join(feat_pairs), doc_id, query)"
   ]
  },
  {
   "cell_type": "code",
   "execution_count": 12,
   "metadata": {},
   "outputs": [
    {
     "name": "stdout",
     "output_type": "stream",
     "text": [
      "generating feature for dystopia (train)\n",
      "generating feature for superhero (train)\n",
      "generating feature for nazis (train)\n",
      "generating feature for biography (train)\n",
      "generating feature for wedding (train)\n",
      "generating feature for murder (train)\n",
      "generating feature for magic (train)\n",
      "generating feature for vampire (train)\n",
      "generating feature for comedy (train)\n",
      "generating feature for prison (train)\n",
      "generating feature for martial arts (train)\n",
      "generating feature for teacher (train)\n",
      "generating feature for romance (val)\n",
      "generating feature for sport (val)\n",
      "generating feature for police (val)\n",
      "generating feature for spy (test)\n",
      "generating feature for extramarital (test)\n",
      "generating feature for world war ii (test)\n",
      "generating feature for musical (test)\n",
      "generating feature for alien (test)\n",
      "number of queries, train 12, test 5, validation 3\n"
     ]
    }
   ],
   "source": [
    "random.shuffle(QUERY_LIST)\n",
    "train_queries = QUERY_LIST[0:12]\n",
    "val_queries = QUERY_LIST[12:15]\n",
    "test_queries = QUERY_LIST[15:]\n",
    "feat_suffixes = [\"train\", \"val\", \"test\"]\n",
    "qid = 1\n",
    "for qt_idx, queries in enumerate([train_queries, val_queries, test_queries]):\n",
    "    fletor = open(LETOR_FILE_TEMPLATE.format(feat_suffixes[qt_idx]), \"w\")\n",
    "    for query in queries:\n",
    "        print(\"generating feature for {:s} ({:s})\".format(query, feat_suffixes[qt_idx]))\n",
    "        docs = get_search_results(query, 100)\n",
    "        # features from search result\n",
    "        orig_scores = [doc[\"score\"] for doc in docs]\n",
    "        title_sims_tfidf = get_tfidf_similarities(query, docs, \"title_t\")\n",
    "        desc_sims_tfidf = get_tfidf_similarities(query, docs, \"description_t\")\n",
    "        title_sims_bm25 = get_bm25_similarities(query, docs, \"title_t\")\n",
    "        desc_sims_bm25 = get_bm25_similarities(query, docs, \"description_t\")\n",
    "        doc_recencies = get_doc_recencies(docs, \"released_dt\")\n",
    "        doc_categories = get_doc_categories(docs)\n",
    "        for i in range(len(docs)):\n",
    "            doc = docs[i]\n",
    "            # get additional fields\n",
    "            doc_id = int(doc[\"id\"])\n",
    "            rating = doc[\"rating_f\"]\n",
    "            # write record\n",
    "            fletor.write(\"{:s}\\n\".format(format_letor(doc_id, rating, qid, query, orig_scores[i],\n",
    "                                                      title_sims_tfidf[i], desc_sims_tfidf[i],\n",
    "                                                      title_sims_bm25[i], desc_sims_bm25[i],\n",
    "                                                      doc_recencies[i], doc_categories[i])))\n",
    "        qid += 1\n",
    "    fletor.close()\n",
    "print(\"number of queries, train {:d}, test {:d}, validation {:d}\".format(\n",
    "    len(train_queries), len(test_queries), len(val_queries)))"
   ]
  },
  {
   "cell_type": "code",
   "execution_count": null,
   "metadata": {},
   "outputs": [],
   "source": []
  }
 ],
 "metadata": {
  "kernelspec": {
   "display_name": "Python 3",
   "language": "python",
   "name": "python3"
  },
  "language_info": {
   "codemirror_mode": {
    "name": "ipython",
    "version": 3
   },
   "file_extension": ".py",
   "mimetype": "text/x-python",
   "name": "python",
   "nbconvert_exporter": "python",
   "pygments_lexer": "ipython3",
   "version": "3.6.5"
  }
 },
 "nbformat": 4,
 "nbformat_minor": 2
}
