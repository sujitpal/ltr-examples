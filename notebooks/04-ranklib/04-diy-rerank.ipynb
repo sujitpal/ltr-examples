{
 "cells": [
  {
   "cell_type": "markdown",
   "metadata": {},
   "source": [
    "# Reranking (no Index support)\n",
    "\n",
    "First we run the rerank subcommand to generate the top 10 reranked results. Note we have added a normalization parameter here to make sure all the features are normalized (so less chance of blowups).\n",
    "\n",
    "    cd <scripts_dir>\n",
    "    java -jar RankLib-2.10.jar \\\n",
    "        -load ../data/diy_lambdamart_model.txt \\\n",
    "        -rank ../data/diy_features_test.txt \\\n",
    "        -norm zscore \\\n",
    "        -score ../data/diy_lambdamart_scores.txt\n",
    "\n",
    "Terminal output is as follows:\n",
    "\n",
    "    Discard orig. features\n",
    "    Model file:\t../data/diy_lambdamart_model.txt\n",
    "    Feature normalization: zscore\n",
    "    Model:\t\tLambdaMART\n",
    "    Reading feature file [../data/diy_features_test.txt]... [Done.]            \n",
    "    (5 ranked lists, 410 entries read)\n"
   ]
  },
  {
   "cell_type": "code",
   "execution_count": 1,
   "metadata": {},
   "outputs": [],
   "source": [
    "import json\n",
    "import operator\n",
    "import os\n",
    "import random\n",
    "import requests\n",
    "import urllib"
   ]
  },
  {
   "cell_type": "code",
   "execution_count": 2,
   "metadata": {},
   "outputs": [],
   "source": [
    "DATA_DIR = \"../../data\"\n",
    "SCORE_FILE = os.path.join(DATA_DIR, \"diy_lambdamart_scores.txt\")\n",
    "\n",
    "SOLR_URL = \"http://localhost:8983/solr/tmdbindex/\"\n",
    "\n",
    "QID_TO_QUERY = {\n",
    "    16: \"spy\",\n",
    "    17: \"extramarital\",\n",
    "    18: \"world war ii\",\n",
    "    19: \"musical\",\n",
    "    20: \"alien\"\n",
    "}\n",
    "TOP_N = 10"
   ]
  },
  {
   "cell_type": "code",
   "execution_count": 3,
   "metadata": {},
   "outputs": [
    {
     "name": "stdout",
     "output_type": "stream",
     "text": [
      "★★★☆☆\n",
      "★★★★☆\n"
     ]
    }
   ],
   "source": [
    "def rating2label(rating):\n",
    "    \"\"\" convert 0-10 continuous rating to 1-5 categorical labels \"\"\"\n",
    "    return int(rating // 2) + 1\n",
    "\n",
    "\n",
    "def get_rating_string(rating):\n",
    "    rating_string = []\n",
    "    for i in range(rating):\n",
    "        rating_string.append(u\"\\u2605\")\n",
    "    for i in range(5 - rating):\n",
    "        rating_string.append(u\"\\u2606\")\n",
    "    return \"\".join(rating_string)\n",
    "\n",
    "\n",
    "print(get_rating_string(3))\n",
    "print(get_rating_string(rating2label(6.4)))"
   ]
  },
  {
   "cell_type": "markdown",
   "metadata": {},
   "source": [
    "## Top 20 without LTR"
   ]
  },
  {
   "cell_type": "code",
   "execution_count": 4,
   "metadata": {},
   "outputs": [],
   "source": [
    "qid = random.randint(16, 20)\n",
    "query = QID_TO_QUERY[qid]"
   ]
  },
  {
   "cell_type": "code",
   "execution_count": 5,
   "metadata": {},
   "outputs": [
    {
     "name": "stdout",
     "output_type": "stream",
     "text": [
      "top 20 results for spy\n",
      "---\n",
      "★★★★☆ 238713 9.455 Spy\n",
      "★★★☆☆ 010535 7.967 Spy Hard\n",
      "★★★☆☆ 010054 7.967 Spy Kids\n",
      "★★★★☆ 001535 7.967 Spy Game\n",
      "★★★☆☆ 008427 7.967 I Spy\n",
      "★★☆☆☆ 031377 7.967 Spy School\n",
      "★★★★☆ 177234 7.967 Spy Chasers\n",
      "★★★★★ 370722 7.967 London Spy\n",
      "★★★☆☆ 038417 7.749 The Thief\n",
      "★★★☆☆ 161620 7.663 Wonder Woman\n",
      "★★★☆☆ 052991 7.495 My Son John\n",
      "★★★★☆ 073420 7.495 Dishonored\n",
      "★★★★☆ 137587 7.495 Reilly: Ace of Spies\n",
      "★★★☆☆ 051787 7.491 British Intelligence\n",
      "★★★★☆ 000213 7.414 North by Northwest\n",
      "★★★☆☆ 183932 7.414 Mare Nostrum\n",
      "★★★★☆ 224600 7.335 The Executioner\n",
      "★★★☆☆ 056288 7.329 Spy Kids: All the Time in the World\n",
      "★★★☆☆ 041135 7.257 Operation: Endgame\n",
      "★★★☆☆ 028426 7.257 Invisible Agent\n"
     ]
    }
   ],
   "source": [
    "def render_results(docs, query, top_n):\n",
    "    print(\"top {:d} results for {:s}\".format(top_n * 2, query))\n",
    "    print(\"---\")\n",
    "    for doc in docs[0:top_n * 2]:\n",
    "        doc_id = int(doc[\"id\"])\n",
    "        stars = get_rating_string(rating2label(float(doc[\"rating_f\"])))\n",
    "        score = float(doc[\"score\"])\n",
    "        title = doc[\"title_t\"]\n",
    "        print(\"{:s} {:06d} {:.3f} {:s}\".format(stars, doc_id, score, title))\n",
    "\n",
    "\n",
    "payload = {\n",
    "    \"q\": query,\n",
    "    \"defType\": \"edismax\",\n",
    "    \"qf\": \"title_t description_t\",\n",
    "    \"pf\": \"title_t description_t\",\n",
    "    \"mm\": 2,\n",
    "    \"fl\": \"id,title_t,rating_f,score\",            \n",
    "    \"rows\": TOP_N * 5\n",
    "}\n",
    "params = urllib.parse.urlencode(payload, quote_via=urllib.parse.quote_plus)\n",
    "search_url = SOLR_URL + \"select?\" + params\n",
    "resp = requests.get(search_url)\n",
    "resp_json = json.loads(resp.text)\n",
    "docs = resp_json[\"response\"][\"docs\"]\n",
    "render_results(docs, query, TOP_N)"
   ]
  },
  {
   "cell_type": "markdown",
   "metadata": {},
   "source": [
    "## Top 20 with LTR"
   ]
  },
  {
   "cell_type": "code",
   "execution_count": 6,
   "metadata": {},
   "outputs": [],
   "source": [
    "fscores = open(SCORE_FILE, \"r\")\n",
    "rows = []\n",
    "for line in fscores:\n",
    "    line = line.strip()\n",
    "    rqid, doc_id, score = line.split(\"\\t\")\n",
    "    if int(rqid) != qid:\n",
    "        continue\n",
    "    rows.append((int(doc_id), float(score)))\n",
    "reranked_rows = sorted(rows, key=operator.itemgetter(1), reverse=True)[0:TOP_N]"
   ]
  },
  {
   "cell_type": "code",
   "execution_count": 7,
   "metadata": {},
   "outputs": [
    {
     "name": "stdout",
     "output_type": "stream",
     "text": [
      "top 20 results for spy\n",
      "---\n",
      "★★★★☆ 238713 0.200 Spy\n",
      "★★☆☆☆ 111310 0.028 Operator 13\n",
      "★★★☆☆ 010535 -0.146 Spy Hard\n",
      "★★★☆☆ 010054 -0.146 Spy Kids\n",
      "★★★★☆ 001535 -0.146 Spy Game\n",
      "★★★☆☆ 008427 -0.146 I Spy\n",
      "★★☆☆☆ 031377 -0.146 Spy School\n",
      "★★★★☆ 177234 -0.146 Spy Chasers\n",
      "★★★★★ 370722 -0.146 London Spy\n",
      "★★★☆☆ 038417 -0.146 The Thief\n",
      "★★★★☆ 238713 0.200 Spy\n",
      "★★★☆☆ 010535 -0.146 Spy Hard\n",
      "★★★☆☆ 010054 -0.146 Spy Kids\n",
      "★★★★☆ 001535 -0.146 Spy Game\n",
      "★★★☆☆ 008427 -0.146 I Spy\n",
      "★★☆☆☆ 031377 -0.146 Spy School\n",
      "★★★★☆ 177234 -0.146 Spy Chasers\n",
      "★★★★★ 370722 -0.146 London Spy\n",
      "★★★☆☆ 038417 -0.146 The Thief\n",
      "★★★☆☆ 161620 7.663 Wonder Woman\n"
     ]
    }
   ],
   "source": [
    "reranked_docs = []\n",
    "# LTR layer\n",
    "for doc_id, score in reranked_rows:\n",
    "    doc = docs[doc_id]\n",
    "    doc[\"score\"] = score\n",
    "    reranked_docs.append(doc)\n",
    "# rest of the results\n",
    "doc_ids_to_remove = set([x[0] for x in reranked_rows])\n",
    "for doc in docs:\n",
    "    doc_id = int(doc[\"id\"])\n",
    "    if doc_id in doc_ids_to_remove:\n",
    "        continue\n",
    "    reranked_docs.append(doc)\n",
    "    \n",
    "render_results(reranked_docs, query, TOP_N)"
   ]
  },
  {
   "cell_type": "code",
   "execution_count": null,
   "metadata": {},
   "outputs": [],
   "source": []
  },
  {
   "cell_type": "code",
   "execution_count": null,
   "metadata": {},
   "outputs": [],
   "source": []
  }
 ],
 "metadata": {
  "kernelspec": {
   "display_name": "Python 3",
   "language": "python",
   "name": "python3"
  },
  "language_info": {
   "codemirror_mode": {
    "name": "ipython",
    "version": 3
   },
   "file_extension": ".py",
   "mimetype": "text/x-python",
   "name": "python",
   "nbconvert_exporter": "python",
   "pygments_lexer": "ipython3",
   "version": "3.6.5"
  }
 },
 "nbformat": 4,
 "nbformat_minor": 2
}
