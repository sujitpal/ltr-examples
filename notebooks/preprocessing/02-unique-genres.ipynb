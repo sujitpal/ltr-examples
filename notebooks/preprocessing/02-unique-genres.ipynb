{
 "cells": [
  {
   "cell_type": "code",
   "execution_count": 1,
   "metadata": {},
   "outputs": [],
   "source": [
    "import collections\n",
    "import csv\n",
    "import json\n",
    "import os\n",
    "import sqlite3"
   ]
  },
  {
   "cell_type": "code",
   "execution_count": 2,
   "metadata": {},
   "outputs": [],
   "source": [
    "DATA_DIR = \"../../data/tmdb-dataset\"\n",
    "MOVIES_DATA = os.path.join(DATA_DIR, \"movies_metadata.csv\")\n",
    "KEYWORDS_DATA = os.path.join(DATA_DIR, \"keywords.csv\")\n",
    "\n",
    "LOOKUPS_DB = os.path.join(DATA_DIR, \"lookups.db\")"
   ]
  },
  {
   "cell_type": "code",
   "execution_count": 3,
   "metadata": {},
   "outputs": [
    {
     "name": "stdout",
     "output_type": "stream",
     "text": [
      "0 movies read\n",
      "1000 movies read\n",
      "2000 movies read\n",
      "3000 movies read\n",
      "4000 movies read\n",
      "5000 movies read\n",
      "6000 movies read\n",
      "7000 movies read\n",
      "8000 movies read\n",
      "9000 movies read\n",
      "10000 movies read\n",
      "11000 movies read\n",
      "12000 movies read\n",
      "13000 movies read\n",
      "14000 movies read\n",
      "15000 movies read\n",
      "16000 movies read\n",
      "17000 movies read\n",
      "18000 movies read\n",
      "19000 movies read\n",
      "20000 movies read\n",
      "21000 movies read\n",
      "22000 movies read\n",
      "23000 movies read\n",
      "24000 movies read\n",
      "25000 movies read\n",
      "26000 movies read\n",
      "27000 movies read\n",
      "28000 movies read\n",
      "29000 movies read\n",
      "30000 movies read\n",
      "31000 movies read\n",
      "32000 movies read\n",
      "33000 movies read\n",
      "34000 movies read\n",
      "35000 movies read\n",
      "36000 movies read\n",
      "37000 movies read\n",
      "38000 movies read\n",
      "39000 movies read\n",
      "40000 movies read\n",
      "41000 movies read\n",
      "42000 movies read\n",
      "43000 movies read\n",
      "44000 movies read\n",
      "45000 movies read\n",
      "45466 movies read, COMPLETE\n",
      "{'Action', 'Fantasy', 'Adventure', 'History', 'Family', 'Documentary', 'GoHands', 'Mystery', 'Comedy', 'War', 'Foreign', 'Animation', 'Drama', 'Music', 'Crime', 'Thriller', 'Western', 'Aniplex', 'Romance', 'Horror'}\n",
      "20\n"
     ]
    }
   ],
   "source": [
    "i = 0\n",
    "unique_genres = set()\n",
    "with open(MOVIES_DATA, \"r\") as csvfile:\n",
    "    reader = csv.DictReader(csvfile)\n",
    "    for row in reader:\n",
    "        if i % 1000 == 0:\n",
    "            print(\"{:d} movies read\".format(i))\n",
    "        genres_val = row[\"genres\"]\n",
    "        genres_val = genres_val.replace(\"'\", \"\\\"\")\n",
    "        genres_json = json.loads(genres_val)\n",
    "        for genre_idname in genres_json:\n",
    "            genre_name = genre_idname[\"name\"]\n",
    "            if len(genre_name.split(\" \")) > 1:\n",
    "                continue\n",
    "            unique_genres.add(genre_name)\n",
    "        i += 1\n",
    "print(\"{:d} movies read, COMPLETE\".format(i))\n",
    "print(unique_genres)\n",
    "print(len(unique_genres))"
   ]
  },
  {
   "cell_type": "code",
   "execution_count": 4,
   "metadata": {},
   "outputs": [],
   "source": [
    "def table_exists(conn, table_name):\n",
    "    cur = conn.cursor()\n",
    "    cur.execute(\"select name from sqlite_master where type='table' and name = ?\", \n",
    "                [table_name])\n",
    "    rows = cur.fetchall()\n",
    "    cur.close()\n",
    "    return len(rows) > 0\n",
    "\n",
    "\n",
    "def create_genres_table(conn):\n",
    "    if not table_exists(conn, \"genres\"):\n",
    "        cur = conn.cursor()\n",
    "        create_table = \"\"\"\n",
    "            CREATE TABLE genres(\n",
    "                gid INTEGER NOT NULL PRIMARY KEY,\n",
    "                gname VARCHAR(32) NOT NULL\n",
    "            )\n",
    "        \"\"\"\n",
    "        create_index = \"\"\"\n",
    "            CREATE UNIQUE INDEX ux1_genres ON genres(gname)\n",
    "        \"\"\"\n",
    "        cur.execute(create_table)\n",
    "        cur.execute(create_index)\n",
    "        cur.close()\n",
    "\n",
    "\n",
    "def insert_genre(conn, gid, gname):\n",
    "    cur = conn.cursor()\n",
    "    insert_sql = \"\"\"\n",
    "        INSERT INTO genres(gid, gname) VALUES (?, ?)\n",
    "    \"\"\"\n",
    "    cur.execute(insert_sql, [gid, gname])\n",
    "    cur.close()\n",
    "\n",
    "\n",
    "\n",
    "conn = sqlite3.connect(LOOKUPS_DB)\n",
    "create_genres_table(conn)"
   ]
  },
  {
   "cell_type": "code",
   "execution_count": 5,
   "metadata": {},
   "outputs": [
    {
     "name": "stdout",
     "output_type": "stream",
     "text": [
      "0 Action\n",
      "1 Fantasy\n",
      "2 Adventure\n",
      "3 History\n",
      "4 Family\n",
      "5 Documentary\n",
      "6 GoHands\n",
      "7 Mystery\n",
      "8 Comedy\n",
      "9 War\n",
      "10 Foreign\n",
      "11 Animation\n",
      "12 Drama\n",
      "13 Music\n",
      "14 Crime\n",
      "15 Thriller\n",
      "16 Western\n",
      "17 Aniplex\n",
      "18 Romance\n",
      "19 Horror\n",
      "number of unique genres: 20\n"
     ]
    }
   ],
   "source": [
    "num_unique_genres = 0\n",
    "for idx, genre_name in enumerate(list(unique_genres)):\n",
    "    print(idx, genre_name)\n",
    "    insert_genre(conn, idx, genre_name)\n",
    "    num_unique_genres += 1\n",
    "\n",
    "print(\"number of unique genres: {:d}\".format(num_unique_genres))\n",
    "\n",
    "conn.commit()\n",
    "conn.close()"
   ]
  },
  {
   "cell_type": "code",
   "execution_count": null,
   "metadata": {},
   "outputs": [],
   "source": []
  }
 ],
 "metadata": {
  "kernelspec": {
   "display_name": "Python 3",
   "language": "python",
   "name": "python3"
  },
  "language_info": {
   "codemirror_mode": {
    "name": "ipython",
    "version": 3
   },
   "file_extension": ".py",
   "mimetype": "text/x-python",
   "name": "python",
   "nbconvert_exporter": "python",
   "pygments_lexer": "ipython3",
   "version": "3.6.5"
  }
 },
 "nbformat": 4,
 "nbformat_minor": 2
}
