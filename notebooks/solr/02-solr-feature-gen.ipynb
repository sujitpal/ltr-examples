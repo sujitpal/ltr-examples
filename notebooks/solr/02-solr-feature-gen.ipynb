{
 "cells": [
  {
   "cell_type": "markdown",
   "metadata": {},
   "source": [
    "# Feature Generation for Solr LTR model\n",
    "\n",
    "We will define features in Solr using the Solr LTR functionality, and then download these features for specific queries in the LETOR format for training our LTR model."
   ]
  },
  {
   "cell_type": "markdown",
   "metadata": {},
   "source": [
    "## Prepare Solr for LTR\n",
    "\n",
    "We have to add the following snippet into the solrconfig.xml file (more details at the [Solr LTR Tutorial](https://github.com/airalcorn2/Solr-LTR)).\n",
    "\n",
    "    cd <solr_home>\n",
    "    bin/solr stop\n",
    "    vi server/solr/tmdbindex/conf/solrconfig.xml\n",
    "    \n",
    "Add following snippet __before__ the `</config>` tag on the last line of solrconfig.xml.\n",
    "\n",
    "    <lib dir=\"${solr.install.dir:../../../..}/contrib/ltr/lib/\" regex=\".*\\.jar\" />\n",
    "    <lib dir=\"${solr.install.dir:../../../..}/dist/\" regex=\"solr-ltr-\\d.*\\.jar\" />\n",
    "\n",
    "    <queryParser name=\"ltr\" class=\"org.apache.solr.ltr.search.LTRQParserPlugin\"/>\n",
    "\n",
    "    <cache name=\"QUERY_DOC_FV\"\n",
    "           class=\"solr.search.LRUCache\"\n",
    "           size=\"4096\"\n",
    "           initialSize=\"2048\"\n",
    "           autowarmCount=\"4096\"\n",
    "           regenerator=\"solr.search.NoOpRegenerator\" />\n",
    "\n",
    "    <transformer name=\"features\" class=\"org.apache.solr.ltr.response.transform.LTRFeatureLoggerTransformerFactory\">\n",
    "      <str name=\"fvCacheName\">QUERY_DOC_FV</str>\n",
    "    </transformer>\n",
    "    \n",
    "Restart Solr with LTR enabled.\n",
    "\n",
    "    bin/solr start -Dsolr.ltr.enabled=true\n",
    "    \n",
    "You are now ready to define LTR features."
   ]
  },
  {
   "cell_type": "markdown",
   "metadata": {},
   "source": [
    "## Feature definition\n",
    "\n",
    "See `../scripts/solr_efi_features.json` for list of features. This list of features is uploaded into Solr using the following command:\n",
    "\n",
    "    curl -XPUT \"http://localhost:8983/solr/tmdbindex/schema/feature-store\" \\\n",
    "        --data-binary \"@solr_efi_features.json\" -H \"Content-type:application/json\"\n",
    "        \n",
    "Features can be viewed using the following URL:\n",
    "\n",
    "    http://localhost:8983/solr/tmdbindex/schema/feature-store/myFeatureStore\n",
    "    \n",
    "Features need to be deleted first in case you want to change things:\n",
    "\n",
    "    curl -XDELETE 'http://localhost:8983/solr/tmdbindex/schema/feature-store/myFeatureStore'\n",
    "    "
   ]
  },
  {
   "cell_type": "markdown",
   "metadata": {},
   "source": [
    "## Feature extraction\n",
    "\n",
    "The [Solr LTR docs](https://lucene.apache.org/solr/guide/7_4/learning-to-rank.html) imply that we can just call the following URL to get the values of the computed features for a given query `q`:\n",
    "\n",
    "    http://localhost:8983/solr/tmdbindex/query?q=%22martial%20arts%22&fl=id,score,[features]\n",
    "\n",
    "But since we have SolrFeature type parameters, these need to be computed in the context of an actual query, so we need to do a little more work. Namely, we construct a dummy LinearModel `solr_feature_ltr_model.json` where the only feature that is turned on is the original score feature, then push it into Solr using the following command:\n",
    "\n",
    "    curl -XPUT \"http://localhost:8983/solr/tmdbindex/schema/model-store\" \\\n",
    "        --data-binary \"@solr_feature_ltr_model.json\" -H \"Content-type:application/json\"\n",
    "        \n",
    "To run a query and get back feature values, use following URL:\n",
    "\n",
    "    http://localhost:8983/solr/tmdbindex/query?q=%22martial%20arts%22&df=description_t&rq={!ltr%20model=myLinearModel%20efi.query=%27martial%20arts%27}&fl=id,score,[features]\n",
    "    \n",
    "In this notebook, we will extract the features for a given set of queries and write it out in [LETOR format](https://sourceforge.net/p/lemur/wiki/RankLib%20File%20Format/). The dataset will be used to train a RankLib LambdaMart model."
   ]
  },
  {
   "cell_type": "code",
   "execution_count": 1,
   "metadata": {},
   "outputs": [],
   "source": [
    "import json\n",
    "import os\n",
    "import random\n",
    "import requests\n",
    "import urllib"
   ]
  },
  {
   "cell_type": "code",
   "execution_count": 2,
   "metadata": {},
   "outputs": [],
   "source": [
    "DATA_DIR = \"../../data/tmdb-dataset\"\n",
    "SOLR_URL = \"http://localhost:8983/solr/tmdbindex/\"\n",
    "\n",
    "FEATURE_LIST = [\n",
    "    \"origScore\", \"titleSimTFIDF\", \"titleSimBM25\", \"descSimTFIDF\", \"descSimBM25\",\n",
    "    \"docRecency\", \"isGoHands\", \"isAniplex\", \"isThriller\", \"isForeign\",\n",
    "    \"isDrama\", \"isWar\", \"isAction\", \"isComedy\", \"isMusic\", \n",
    "    \"isRomance\", \"isAdventure\", \"isFamily\", \"isFantasy\", \"isCrime\",\n",
    "    \"isHorror\", \"isHistory\", \"isMystery\", \"isAnimation\", \"isDocumentary\",\n",
    "    \"isWestern\"\n",
    "]\n",
    "QUERY_LIST = [\n",
    "    \"murder\", \"musical\", \"biography\", \"police\", \"world war ii\",\n",
    "    \"comedy\", \"superhero\", \"nazis\", \"romance\", \"martial arts\",\n",
    "    \"extramarital\", \"spy\", \"vampire\", \"magic\", \"wedding\",\n",
    "    \"sport\", \"prison\", \"teacher\", \"alien\", \"dystopia\"\n",
    "]"
   ]
  },
  {
   "cell_type": "code",
   "execution_count": 3,
   "metadata": {},
   "outputs": [],
   "source": [
    "def rating2label(rating):\n",
    "    \"\"\" convert 0-10 continuous rating to 1-5 categorical labels \"\"\"\n",
    "    return int(rating // 2) + 1\n",
    "\n",
    "assert(rating2label(6.4) == 4)\n",
    "assert(rating2label(9.8) == 5)"
   ]
  },
  {
   "cell_type": "code",
   "execution_count": 4,
   "metadata": {},
   "outputs": [],
   "source": [
    "feature_name2id = {name: idx + 1 for idx, name in enumerate(FEATURE_LIST)}\n",
    "\n",
    "assert(feature_name2id[\"isRomance\"] == 16)"
   ]
  },
  {
   "cell_type": "code",
   "execution_count": 5,
   "metadata": {},
   "outputs": [
    {
     "name": "stdout",
     "output_type": "stream",
     "text": [
      "3 qid:1 1:9.458602 2:0.0 3:0.0 4:2.3550842 5:9.458602 6:0.07054524 7:0 8:0 9:0 10:0 11:0 12:0 13:0 14:0 15:0 16:0 17:0 18:0 19:0 20:0 21:0 22:0 23:0 24:0 25:1 26:0 # docid:192143 query:biography\n"
     ]
    }
   ],
   "source": [
    "def format_letor(doc_id, rating, feat_str, qid, query):\n",
    "    label = rating2label(rating)\n",
    "    feat_pairs = []\n",
    "    for feat_nv in feat_str.split(\",\"):\n",
    "        feat_name, feat_val = feat_nv.split(\"=\")\n",
    "        feat_id = str(feature_name2id[feat_name])\n",
    "        feat_val = float(feat_val)\n",
    "        if feat_name.startswith(\"is\"):\n",
    "            feat_val = int(feat_val)\n",
    "        feat_val = str(feat_val)\n",
    "        feat_pairs.append(\":\".join([feat_id, feat_val]))\n",
    "    return \"{:d} qid:{:d} {:s} # docid:{:d} query:{:s}\".format(\n",
    "        label, qid, \" \".join(feat_pairs), doc_id, query)\n",
    "\n",
    "print(format_letor(192143, 4.5, \"origScore=9.458602,titleSimTFIDF=0.0,titleSimBM25=0.0,descSimTFIDF=2.3550842,descSimBM25=9.458602,docRecency=0.07054524,isGoHands=0.0,isAniplex=0.0,isThriller=0.0,isForeign=0.0,isDrama=0.0,isWar=0.0,isAction=0.0,isComedy=0.0,isMusic=0.0,isRomance=0.0,isAdventure=0.0,isFamily=0.0,isFantasy=0.0,isCrime=0.0,isHorror=0.0,isHistory=0.0,isMystery=0.0,isAnimation=0.0,isDocumentary=1.0,isWestern=0.0\", 1, \"biography\"))"
   ]
  },
  {
   "cell_type": "code",
   "execution_count": 6,
   "metadata": {},
   "outputs": [
    {
     "name": "stdout",
     "output_type": "stream",
     "text": [
      "generating feature for nazis (train)\n",
      "generating feature for musical (train)\n",
      "generating feature for comedy (train)\n",
      "generating feature for superhero (train)\n",
      "generating feature for world war ii (train)\n",
      "generating feature for martial arts (train)\n",
      "generating feature for dystopia (train)\n",
      "generating feature for biography (train)\n",
      "generating feature for prison (train)\n",
      "generating feature for wedding (train)\n",
      "generating feature for teacher (train)\n",
      "generating feature for spy (train)\n",
      "generating feature for romance (val)\n",
      "generating feature for magic (val)\n",
      "generating feature for alien (val)\n",
      "generating feature for extramarital (test)\n",
      "generating feature for vampire (test)\n",
      "generating feature for murder (test)\n",
      "generating feature for sport (test)\n",
      "generating feature for police (test)\n",
      "number of queries, train 12, test 5, validation 3\n"
     ]
    }
   ],
   "source": [
    "random.shuffle(QUERY_LIST)\n",
    "train_queries = QUERY_LIST[0:12]\n",
    "val_queries = QUERY_LIST[12:15]\n",
    "test_queries = QUERY_LIST[15:]\n",
    "feat_suffixes = [\"train\", \"val\", \"test\"]\n",
    "qid = 1\n",
    "for qt_idx, queries in enumerate([train_queries, val_queries, test_queries]):\n",
    "    fletor = open(os.path.join(DATA_DIR, \"solr_features_{:s}.txt\".format(feat_suffixes[qt_idx])), \"w\")\n",
    "    for query in queries:\n",
    "        print(\"generating feature for {:s} ({:s})\".format(query, feat_suffixes[qt_idx]))\n",
    "        if len(query.split()) > 1:\n",
    "            query = \"\\\"\" + query + \"\\\"\"\n",
    "        payload = {\n",
    "            \"q\": query,\n",
    "            \"defType\": \"edismax\",\n",
    "            \"qf\": \"title_t description_t\",\n",
    "            \"pf\": \"title_t description_t\",\n",
    "            \"mm\": 2,\n",
    "            \"rq\": \"{!ltr model=myLinearModel efi.query=\" + query + \"}\",\n",
    "            \"fl\": \"id,rating_f,[features]\",            \n",
    "            \"rows\": 100\n",
    "        }\n",
    "        params = urllib.parse.urlencode(payload, quote_via=urllib.parse.quote_plus)\n",
    "        search_url = SOLR_URL + \"select?\" + params\n",
    "        resp = requests.get(search_url)\n",
    "        resp_json = json.loads(resp.text)\n",
    "        for doc in resp_json[\"response\"][\"docs\"]:\n",
    "            doc_id = int(doc[\"id\"])\n",
    "            rating = doc[\"rating_f\"]\n",
    "            feat_str = doc[\"[features]\"]\n",
    "            fletor.write(\"{:s}\\n\".format(format_letor(doc_id, rating, feat_str, qid, query)))\n",
    "        qid += 1\n",
    "    fletor.close()\n",
    "print(\"number of queries, train {:d}, test {:d}, validation {:d}\".format(\n",
    "    len(train_queries), len(test_queries), len(val_queries)))"
   ]
  },
  {
   "cell_type": "code",
   "execution_count": null,
   "metadata": {},
   "outputs": [],
   "source": []
  }
 ],
 "metadata": {
  "kernelspec": {
   "display_name": "Python 3",
   "language": "python",
   "name": "python3"
  },
  "language_info": {
   "codemirror_mode": {
    "name": "ipython",
    "version": 3
   },
   "file_extension": ".py",
   "mimetype": "text/x-python",
   "name": "python",
   "nbconvert_exporter": "python",
   "pygments_lexer": "ipython3",
   "version": "3.6.5"
  }
 },
 "nbformat": 4,
 "nbformat_minor": 2
}
