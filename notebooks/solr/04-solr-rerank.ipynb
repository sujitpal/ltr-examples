{
 "cells": [
  {
   "cell_type": "markdown",
   "metadata": {},
   "source": [
    "# Reranking with Solr LTR Model"
   ]
  },
  {
   "cell_type": "code",
   "execution_count": 1,
   "metadata": {},
   "outputs": [],
   "source": [
    "import json\n",
    "import os\n",
    "import random\n",
    "import requests\n",
    "import urllib"
   ]
  },
  {
   "cell_type": "code",
   "execution_count": 2,
   "metadata": {},
   "outputs": [],
   "source": [
    "SOLR_URL = \"http://localhost:8983/solr/tmdbindex/\"\n",
    "QUERY_LIST = [\n",
    "    \"murder\", \"musical\", \"biography\", \"police\", \"world war ii\",\n",
    "    \"comedy\", \"superhero\", \"nazis\", \"romance\", \"martial arts\",\n",
    "    \"extramarital\", \"spy\", \"vampire\", \"magic\", \"wedding\",\n",
    "    \"sport\", \"prison\", \"teacher\", \"alien\", \"dystopia\"\n",
    "]\n",
    "TOP_N = 10"
   ]
  },
  {
   "cell_type": "code",
   "execution_count": 3,
   "metadata": {},
   "outputs": [
    {
     "name": "stdout",
     "output_type": "stream",
     "text": [
      "★★★☆☆\n",
      "★★★★☆\n"
     ]
    }
   ],
   "source": [
    "def rating2label(rating):\n",
    "    \"\"\" convert 0-10 continuous rating to 1-5 categorical labels \"\"\"\n",
    "    return int(rating // 2) + 1\n",
    "\n",
    "\n",
    "def get_rating_string(rating):\n",
    "    rating_string = []\n",
    "    for i in range(rating):\n",
    "        rating_string.append(u\"\\u2605\")\n",
    "    for i in range(5 - rating):\n",
    "        rating_string.append(u\"\\u2606\")\n",
    "    return \"\".join(rating_string)\n",
    "\n",
    "\n",
    "print(get_rating_string(3))\n",
    "print(get_rating_string(rating2label(6.4)))"
   ]
  },
  {
   "cell_type": "code",
   "execution_count": 4,
   "metadata": {},
   "outputs": [],
   "source": [
    "query = QUERY_LIST[random.randint(0, len(QUERY_LIST))]\n",
    "if len(query.split()) > 1:\n",
    "    query = \"\\\"\" + query + \"\\\"\""
   ]
  },
  {
   "cell_type": "markdown",
   "metadata": {},
   "source": [
    "## Top 20 results without LTR"
   ]
  },
  {
   "cell_type": "code",
   "execution_count": 5,
   "metadata": {},
   "outputs": [
    {
     "name": "stdout",
     "output_type": "stream",
     "text": [
      "top 20 results for \"world war ii\"\n",
      "---\n",
      "★★★★☆ 039485 14.994 Hotel Sahara\n",
      "★★★★☆ 143335 14.659 The Gathering Storm\n",
      "★★★☆☆ 166610 14.659 The Ducktators\n",
      "★★★★☆ 030298 14.497 The Secret of Santa Vittoria\n",
      "★★★★☆ 043313 14.339 The Teahouse of the August Moon\n",
      "★★★☆☆ 035954 14.339 Cornered\n",
      "★★★☆☆ 074474 14.339 Varian's War\n",
      "★★★☆☆ 165300 14.184 Hotel Berlin\n",
      "★★★★☆ 029032 14.184 The Secret Invasion\n",
      "★★★☆☆ 034945 14.184 The Conspirators\n",
      "★★★★☆ 004820 14.032 Never So Few\n",
      "★★★☆☆ 343070 14.004 Flight World War II\n",
      "★★★★☆ 027367 13.883 Mrs. Miniver\n",
      "★★★★☆ 022905 13.875 The Rape of Europa\n",
      "★★★★☆ 011589 13.738 Kelly's Heroes\n",
      "★★★★☆ 051044 13.738 Carmen Jones\n",
      "★★★★☆ 044480 13.738 Education for Death\n",
      "★★★★☆ 048882 13.738 Podranki\n",
      "★★★★☆ 018884 13.596 Nuremberg\n",
      "★☆☆☆☆ 118443 13.596 Nothing Too Good for a Cowboy\n"
     ]
    }
   ],
   "source": [
    "def render_results(docs, query, top_n):\n",
    "    print(\"top {:d} results for {:s}\".format(TOP_N * 2, query))\n",
    "    print(\"---\")\n",
    "    for doc in resp_json[\"response\"][\"docs\"]:\n",
    "        doc_id = int(doc[\"id\"])\n",
    "        stars = get_rating_string(rating2label(float(doc[\"rating_f\"])))\n",
    "        score = float(doc[\"score\"])\n",
    "        title = doc[\"title_t\"]\n",
    "        print(\"{:s} {:06d} {:.3f} {:s}\".format(stars, doc_id, score, title))\n",
    "\n",
    "\n",
    "payload = {\n",
    "    \"q\": query,\n",
    "    \"defType\": \"edismax\",\n",
    "    \"qf\": \"title_t description_t\",\n",
    "    \"pf\": \"title_t description_t\",\n",
    "    \"mm\": 2,\n",
    "    \"fl\": \"id,title_t,rating_f,score\",            \n",
    "    \"rows\": TOP_N * 2\n",
    "}\n",
    "params = urllib.parse.urlencode(payload, quote_via=urllib.parse.quote_plus)\n",
    "search_url = SOLR_URL + \"select?\" + params\n",
    "resp = requests.get(search_url)\n",
    "resp_json = json.loads(resp.text)\n",
    "docs = resp_json[\"response\"][\"docs\"]\n",
    "render_results(docs, query, TOP_N * 2)"
   ]
  },
  {
   "cell_type": "markdown",
   "metadata": {},
   "source": [
    "## Top 20 results with LTR (top 10)"
   ]
  },
  {
   "cell_type": "code",
   "execution_count": 6,
   "metadata": {},
   "outputs": [
    {
     "name": "stdout",
     "output_type": "stream",
     "text": [
      "top 20 results for \"world war ii\"\n",
      "---\n",
      "★★★★☆ 030298 -1.897 The Secret of Santa Vittoria\n",
      "★★★★☆ 143335 -2.010 The Gathering Storm\n",
      "★★★☆☆ 074474 -2.055 Varian's War\n",
      "★★★☆☆ 034945 -2.166 The Conspirators\n",
      "★★★★☆ 029032 -2.174 The Secret Invasion\n",
      "★★★☆☆ 035954 -2.281 Cornered\n",
      "★★★☆☆ 165300 -2.281 Hotel Berlin\n",
      "★★★★☆ 039485 -2.352 Hotel Sahara\n",
      "★★★☆☆ 166610 -2.611 The Ducktators\n",
      "★★★★☆ 043313 -2.683 The Teahouse of the August Moon\n",
      "★★★★☆ 004820 14.032 Never So Few\n",
      "★★★☆☆ 343070 14.004 Flight World War II\n",
      "★★★★☆ 027367 13.883 Mrs. Miniver\n",
      "★★★★☆ 022905 13.875 The Rape of Europa\n",
      "★★★★☆ 011589 13.738 Kelly's Heroes\n",
      "★★★★☆ 051044 13.738 Carmen Jones\n",
      "★★★★☆ 044480 13.738 Education for Death\n",
      "★★★★☆ 048882 13.738 Podranki\n",
      "★★★★☆ 018884 13.596 Nuremberg\n",
      "★☆☆☆☆ 118443 13.596 Nothing Too Good for a Cowboy\n"
     ]
    }
   ],
   "source": [
    "payload = {\n",
    "    \"q\": query,\n",
    "    \"defType\": \"edismax\",\n",
    "    \"qf\": \"title_t description_t\",\n",
    "    \"pf\": \"title_t description_t\",\n",
    "    \"mm\": 2,\n",
    "    \"rq\": \"{!ltr model=myLambdaMARTModel reRankDocs=10 efi.query=\" + query + \"}\",\n",
    "    \"fl\": \"id,title_t,rating_f,score\",            \n",
    "    \"rows\": TOP_N * 2\n",
    "}\n",
    "params = urllib.parse.urlencode(payload, quote_via=urllib.parse.quote_plus)\n",
    "search_url = SOLR_URL + \"select?\" + params\n",
    "resp = requests.get(search_url)\n",
    "resp_json = json.loads(resp.text)\n",
    "docs = resp_json[\"response\"][\"docs\"]\n",
    "render_results(docs, query, TOP_N * 2)"
   ]
  },
  {
   "cell_type": "code",
   "execution_count": null,
   "metadata": {},
   "outputs": [],
   "source": []
  }
 ],
 "metadata": {
  "kernelspec": {
   "display_name": "Python 3",
   "language": "python",
   "name": "python3"
  },
  "language_info": {
   "codemirror_mode": {
    "name": "ipython",
    "version": 3
   },
   "file_extension": ".py",
   "mimetype": "text/x-python",
   "name": "python",
   "nbconvert_exporter": "python",
   "pygments_lexer": "ipython3",
   "version": "3.6.5"
  }
 },
 "nbformat": 4,
 "nbformat_minor": 2
}
